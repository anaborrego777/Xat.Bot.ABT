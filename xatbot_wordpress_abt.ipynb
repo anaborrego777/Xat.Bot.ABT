{
  "nbformat": 4,
  "nbformat_minor": 0,
  "metadata": {
    "colab": {
      "provenance": [],
      "authorship_tag": "ABX9TyMPzpdOgG+ftyvxUFqZPaH8",
      "include_colab_link": true
    },
    "kernelspec": {
      "name": "python3",
      "display_name": "Python 3"
    },
    "language_info": {
      "name": "python"
    }
  },
  "cells": [
    {
      "cell_type": "markdown",
      "metadata": {
        "id": "view-in-github",
        "colab_type": "text"
      },
      "source": [
        "<a href=\"https://colab.research.google.com/github/anaborrego777/Xat.Bot.ABT/blob/main/xatbot_wordpress_abt.ipynb\" target=\"_parent\"><img src=\"https://colab.research.google.com/assets/colab-badge.svg\" alt=\"Open In Colab\"/></a>"
      ]
    },
    {
      "cell_type": "code",
      "execution_count": 1,
      "metadata": {
        "id": "58wTuEYY3Qpo",
        "colab": {
          "base_uri": "https://localhost:8080/"
        },
        "outputId": "0cea368e-cc34-403e-cf74-e756a30e6cf0"
      },
      "outputs": [
        {
          "output_type": "stream",
          "name": "stdout",
          "text": [
            "Tu: hola\n",
            "XatBot: Hola! Com et puc ajudar?\n",
            "Tu: com et dius\n",
            "XatBot: Sóc un XatBot creat per ajudar-te.\n",
            "Tu: com estàs?\n",
            "XatBot: Ho sento, no entenc la teva pregunta.\n",
            "Tu: adeu\n",
            "XatBot: Ho sento, no entenc la teva pregunta.\n",
            "Tu: adéu\n",
            "XatBot: Adéu!\n"
          ]
        }
      ],
      "source": [
        "# XatBot inicial en Python (prova)\n",
        "import random\n",
        "\n",
        "# Diccionari de respostes\n",
        "respostes = {\n",
        "    \"hola\": \"Hola! Com et puc ajudar?\",\n",
        "    \"com et dius\": \"Sóc un XatBot creat per ajudar-te.\",\n",
        "    \"com estàs\": \"Estic bé, gràcies per preguntar!\",\n",
        "    \"adéu\": \"Adéu! Espero que tornis aviat!\"\n",
        "}\n",
        "\n",
        "# Funció per respondre\n",
        "def xatbot(resposta):\n",
        "    resposta = resposta.lower() # Fa que el que escrius es torni en minúscules\n",
        "    return respostes.get(resposta, \"Ho sento, no entenc la teva pregunta.\")\n",
        "\n",
        "# Prova del XatBot\n",
        "while True:\n",
        "    missatge = input(\"Tu: \")\n",
        "    if missatge.lower() == \"adéu\": #Si escrius 'adéu', s'acaba\n",
        "        print(\"XatBot: Adéu!\")\n",
        "        break\n",
        "    print(\"XatBot:\", xatbot(missatge)) #Si no escrius 'adéu', et respon\n"
      ]
    }
  ]
}