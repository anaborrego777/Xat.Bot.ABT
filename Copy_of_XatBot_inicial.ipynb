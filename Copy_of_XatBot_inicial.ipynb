{
  "nbformat": 4,
  "nbformat_minor": 0,
  "metadata": {
    "colab": {
      "provenance": [],
      "include_colab_link": true
    },
    "kernelspec": {
      "name": "python3",
      "display_name": "Python 3"
    },
    "language_info": {
      "name": "python"
    }
  },
  "cells": [
    {
      "cell_type": "markdown",
      "metadata": {
        "id": "view-in-github",
        "colab_type": "text"
      },
      "source": [
        "<a href=\"https://colab.research.google.com/github/anaborrego777/Xat.Bot.ABT/blob/main/Copy_of_XatBot_inicial.ipynb\" target=\"_parent\"><img src=\"https://colab.research.google.com/assets/colab-badge.svg\" alt=\"Open In Colab\"/></a>"
      ]
    },
    {
      "cell_type": "code",
      "execution_count": null,
      "metadata": {
        "colab": {
          "base_uri": "https://localhost:8080/"
        },
        "id": "JQyNXjXEIv-w",
        "outputId": "cae9554a-cba1-4f54-b382-636145661ec5"
      },
      "outputs": [
        {
          "output_type": "stream",
          "name": "stdout",
          "text": [
            "\n",
            "💬 XatBot activat! Escriu 'sortir' per acabar la conversa.\n",
            "\n",
            "👤 Usuari: hola, com et dius?\n",
            "🤖 XatBot: Sóc un model lingüístic gran, entrenat per Google.\n",
            "\n"
          ]
        }
      ],
      "source": [
        "# La primera vegada, desmarca la línia de sota per a instal·lar la biblioteca\n",
        "# !pip install -U google-genai\n",
        "\n",
        "from google import genai\n",
        "from google.colab import userdata\n",
        "\n",
        "# ==============================\n",
        "# CONFIGURACIÓ DE L'API\n",
        "# ==============================\n",
        "\n",
        "# Configurar la clau API directament al client\n",
        "GOOGLE_API_KEY = userdata.get(\"GOOGLE_API_KEY\")\n",
        "\n",
        "# Gestió d'errors si no s'ha configurat la clau API\n",
        "if not GOOGLE_API_KEY:\n",
        "    print(\"⚠️ No s'ha trobat la clau API. Configura-la a Colab abans d'executar el programa.\")\n",
        "    exit()\n",
        "\n",
        "# Crear el client (NOU mètode de l'SDK 2.x)\n",
        "client = genai.Client(api_key=GOOGLE_API_KEY)\n",
        "\n",
        "# ==============================\n",
        "# INSTRUCCIONS DEL SISTEMA\n",
        "# ==============================\n",
        "\n",
        "# Definir la instrucció del sistema per guiar el comportament del xat\n",
        "# Aquesta instrucció determina la \"personalitat\" i el to de les respostes\n",
        "system_instruction = \"\"\"\n",
        "Ets un assistent d'intel·ligència artificial dissenyat per ajudar els usuaris de manera clara, precisa i educada.\n",
        "Proporciona respostes concretes i senzilles per facilitar la comprensió.\n",
        "\"\"\"\n",
        "\n",
        "# Crear una sessió de xat amb historial automàtic i instruccions personalitzades\n",
        "chat = client.chats.create(\n",
        "    model=\"gemini-2.0-flash\",\n",
        "    config=genai.types.GenerateContentConfig(\n",
        "        system_instruction=system_instruction, # Afegim instruccions del sistema\n",
        "        temperature=0.7,                      # Nivell de creativitat (0 = més concret, 1 = més creatiu)\n",
        "        max_output_tokens=200                 # Longitud màxima de la resposta\n",
        "    )\n",
        ")\n",
        "\n",
        "# ==============================\n",
        "# BUCLE DEL XAT\n",
        "# ==============================\n",
        "\n",
        "print(\"\\n💬 XatBot activat! Escriu 'sortir' per acabar la conversa.\\n\")\n",
        "\n",
        "while True:\n",
        "    try:\n",
        "        # Llegir la pregunta de l'usuari\n",
        "        prompt = input(\"👤 Usuari: \").strip()\n",
        "\n",
        "        # Si l'usuari escriu 'sortir', finalitzar la sessió\n",
        "        if prompt.lower() == \"sortir\":\n",
        "            print(\"👋 XatBot: Fins aviat!\")\n",
        "            break\n",
        "\n",
        "        # Enviar el missatge al model i obtenir la resposta\n",
        "        resposta = chat.send_message(prompt)\n",
        "\n",
        "        # Mostrar la resposta generada pel model\n",
        "        print(f\"🤖 XatBot: {resposta.text.strip()}\\n\")\n",
        "\n",
        "    except Exception as e:\n",
        "        # Gestionar qualsevol error de comunicació amb l'API\n",
        "        print(f\"⚠️ Error en la comunicació amb Gemini: {e}\")\n",
        "\n",
        "# ==============================\n",
        "# FI DE LA SESSIÓ\n",
        "# =============================="
      ]
    },
    {
      "cell_type": "code",
      "source": [],
      "metadata": {
        "id": "-82bfSfZJySg"
      },
      "execution_count": null,
      "outputs": []
    }
  ]
}